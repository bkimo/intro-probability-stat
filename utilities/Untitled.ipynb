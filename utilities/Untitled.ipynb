{
 "cells": [
  {
   "cell_type": "code",
   "execution_count": 2,
   "metadata": {},
   "outputs": [
    {
     "name": "stdout",
     "output_type": "stream",
     "text": [
      "1.0\n"
     ]
    }
   ],
   "source": [
    "import sys\n",
    "sys.path.append('./utilities/')\n",
    "\n",
    "# Our helper, with the functions: \n",
    "# coinflip\n",
    "\n",
    "import comp_prob_inference as cpi\n",
    "\n",
    "prob_space = {'sunny':1/2, 'rainy':1/6,'snowy':1/3}\n",
    "random_outcome = cpi.sample_from_finite_probability_space(prob_space)\n",
    "W = random_outcome\n",
    "if random_outcome == 'sunny':\n",
    "    I = 1\n",
    "else: I = 0\n",
    "\n",
    "\n",
    "total = 0\n",
    "for i in prob_space:\n",
    "    total += prob_space[i]\n",
    "print(total)\n"
   ]
  },
  {
   "cell_type": "code",
   "execution_count": null,
   "metadata": {},
   "outputs": [],
   "source": []
  }
 ],
 "metadata": {
  "kernelspec": {
   "display_name": "Python 3",
   "language": "python",
   "name": "python3"
  },
  "language_info": {
   "codemirror_mode": {
    "name": "ipython",
    "version": 3
   },
   "file_extension": ".py",
   "mimetype": "text/x-python",
   "name": "python",
   "nbconvert_exporter": "python",
   "pygments_lexer": "ipython3",
   "version": "3.7.3"
  }
 },
 "nbformat": 4,
 "nbformat_minor": 4
}
