{
 "cells": [
  {
   "cell_type": "markdown",
   "metadata": {},
   "source": [
    "## Plotting Probability Histograms Using Matplotlib in Python\n",
    "\n",
    "* [Plotting Histograms with matplotlib and Python](https://pythonforundergradengineers.com/histogram-plots-with-matplotlib-and-python.html)\n",
    "* [Python Data Analytics](https://www.ntu.edu.sg/home/ehchua/programming/webprogramming/Python4_DataAnalysis.html)\n",
    "* [Histogram – The Ultimate Guide of Binning](https://www.answerminer.com/blog/binning-guide-ideal-histogram)\n",
    "* [Histograms in Matplotlib](https://www.datacamp.com/community/tutorials/histograms-matplotlib\n",
    "* [Exploring Histograms, an essay by Aran Lunzer and Amelia McNamara](http://tinlizzie.org/histograms/#)"
   ]
  },
  {
   "cell_type": "markdown",
   "metadata": {},
   "source": [
    "A **probability histogram** is an accurate graphical representation of the probability distribution of numeraical data. Histogram is a type of bar graph. To construct a histogram, the first step is to *bin* the range of values — that is, divide the entire range of values into a series of intervals — and then count how many values fall into each interval. The bins are usually specified as consecutive, non-overlapping intervals of equal size. We can create histograms with Python's plotting library [matplotlib](https://matplotlib.org/index.html), which can generate plots, such as histograms, power spectra, bar charts, error charts, scatter plots, and more. "
   ]
  },
  {
   "cell_type": "markdown",
   "metadata": {},
   "source": [
    "*Matplotlib* contains many useful modules and we will use *pyplot* module, `matplotlib.pyplot`, which is a collection of command-style functions. Let's import the module. Also, include the line `%matplotlib inline` below the imports to display any plots in jupyter notebook:"
   ]
  },
  {
   "cell_type": "code",
   "execution_count": 1,
   "metadata": {},
   "outputs": [],
   "source": [
    "import matplotlib.pyplot as plt \n",
    "%matplotlib inline              "
   ]
  },
  {
   "cell_type": "markdown",
   "metadata": {},
   "source": [
    "### Plotting Probability Histograms with Pandas and Matplotlib"
   ]
  },
  {
   "cell_type": "markdown",
   "metadata": {},
   "source": [
    "**Example 1.** The color of a plain M\\&M milk chocolate candy can be *brown, yellow,\n",
    "red, blue, orange,* or *green*. Suppose a candy is randomly selected from a bag. Table 1\n",
    "shows each color and the probability of drawing that color. \n",
    "\n",
    " <img src=\"./images/M&M.png\" style=\"width: 200px;\"/>\n",
    " \n",
    "We want to express this probability model as its probability histogram."
   ]
  },
  {
   "cell_type": "code",
   "execution_count": 17,
   "metadata": {},
   "outputs": [
    {
     "name": "stdout",
     "output_type": "stream",
     "text": [
      "  M&M Color   Val\n",
      "0     Brown  0.13\n",
      "1    Yellow  0.14\n",
      "2       Red  0.13\n",
      "3      Blue  0.24\n",
      "4    Orange  0.20\n"
     ]
    },
    {
     "data": {
      "image/png": "[encoded data removed]",
      "text/plain": [
       "<Figure size 432x288 with 1 Axes>"
      ]
     },
     "metadata": {
      "needs_background": "light"
     },
     "output_type": "display_data"
    }
   ],
   "source": [
    "import pandas as pd\n",
    "\n",
    "# Setup DataFrame\n",
    "color = ['Brown', 'Yellow', 'Red', 'Blue', 'Orange', 'Green']\n",
    "value = [0.13, 0.14, 0.13, 0.24, 0.20, 0.16]\n",
    "df = pd.DataFrame({'M&M Color': color, 'Val': value})\n",
    "\n",
    "print(df.head()) # To see the first five data in the dataframe 'df'\n",
    "\n",
    "# Plot probability histogram using pandas' bar() function\n",
    "ax = df.plot.bar(x='M&M Color', y='Val', rot=0, edgecolor='k', width=1, legend=False,\n",
    "                 title='Probability of drawing the color')"
   ]
  },
  {
   "cell_type": "markdown",
   "metadata": {},
   "source": [
    "**Exercise 1.** Suppose we ask a basketball player to shoot three free throws. Let the random variable $X$ represent the number of shots made, so $x = 0, 1, 2,$ or $3$. \n",
    "The following table shows a probability distribution for the random variable $X$.\n",
    "\n",
    "$$\n",
    " \\begin{array}{|c|c|} \n",
    "    \\hline\n",
    "    x & Pr(x) \\\\ \\hline\n",
    "    0 & 0.01 \\\\ \\hline\n",
    "    1 & 0.10 \\\\ \\hline\n",
    "    2 & 0.38 \\\\ \\hline\n",
    "    3 & 0.51 \\\\ \\hline\n",
    " \\end{array}\n",
    "$$\n",
    "Graph the histogram of the discrete probability distribution given in Table."
   ]
  },
  {
   "cell_type": "markdown",
   "metadata": {},
   "source": [
    "### Plotting Cumulative Probability Histograms with Pandas and Matplotlib"
   ]
  },
  {
   "cell_type": "markdown",
   "metadata": {},
   "source": [
    "Th **cumulative distribution** of a discrete random variable $X$ evaluated at $x$, \n",
    "is the probability that $X$ will take a value less than or equal to $x$, $\\mathrm{Pr}(X\\leq x)$. \n",
    "\n",
    "**Example 2.** Let's construct a cumulative distribution for number of heads in 4 flips of a fair coin.\n",
    "\n",
    "  <img src=\"./images/cpf.png\" style=\"width: 400px;\"/>\n",
    "  \n",
    " Cumulative probabilities are found by adding the probability up to each column of the table. In the above Figure, we find the cumulative probability for one head by adding the probabilities for zero and one,$\\mathrm{Pr}(X\\leq 1) = \\mathrm{Pr}(X=0)+\\mathrm{Pr}(X=1)$. \n",
    "Likewise, the cumulative probability for two heads is found by adding the probabilities \n",
    "\tfor zero, one, and two. We continue with this procedure until we reach the maximum number of heads, in this case four, \n",
    "\twhich should have a cumulative probability of 1.00 because 100\\% of trials must have four or fewer heads. So, the cumulative distribution for $X$ = Number of Heads in 4 Flips\n",
    " is\n",
    "      \n",
    "$$\n",
    " \\begin{array}{|c|c|c|c|c|c|} \\hline \n",
    "   x & 0 & 1 & 2 & 3 & 4  \\\\ \\hline\n",
    "   Pr(X\\leq x) & 0.0625 & 0.3125 & 0.6875 & 0.9375 & 1\\\\ \\hline\n",
    " \\end{array} \n",
    "$$ \n",
    " \n",
    "    \n",
    "\t  "
   ]
  },
  {
   "cell_type": "code",
   "execution_count": 18,
   "metadata": {},
   "outputs": [
    {
     "name": "stdout",
     "output_type": "stream",
     "text": [
      "   X      Pr\n",
      "0  0  0.0625\n",
      "1  1  0.3125\n",
      "2  2  0.6875\n",
      "3  3  0.9375\n",
      "4  4  1.0000\n"
     ]
    },
    {
     "data": {
      "image/png": "[encoded data removed]",
      "text/plain": [
       "<Figure size 432x288 with 1 Axes>"
      ]
     },
     "metadata": {
      "needs_background": "light"
     },
     "output_type": "display_data"
    }
   ],
   "source": [
    "val = [0, 1, 2, 3, 4]\n",
    "prb = [0.0625, 0.3125, 0.6875, 0.9375, 1.0]\n",
    "\n",
    "df2 = pd.DataFrame({'X': val, 'Pr': prb})\n",
    "\n",
    "print(df2.head())\n",
    "\n",
    "ax = df2.plot.bar(x='X', y='Pr', rot=0, edgecolor='k', width=1, legend=False,\n",
    "                 title='Cumulative Probability')"
   ]
  },
  {
   "cell_type": "markdown",
   "metadata": {},
   "source": [
    "**Exercise 2.** Find and graph the cumulative probability distribution associated Table 1 in Exercise 1."
   ]
  },
  {
   "cell_type": "markdown",
   "metadata": {},
   "source": [
    "### Diffusion of Molecules "
   ]
  },
  {
   "cell_type": "markdown",
   "metadata": {},
   "source": [
    "**Exercise 3.** Consider ten toxic molecules diffusing out of a cell. Suppose that each molecule has a 10% chance of leaving the cell each minute. Let $N_t$ denote the number of molecules remained inside the cell after different lengths of time. The table below shows the results after $t = 1, 4,$ and $8$ minutes.\n",
    "\n",
    " <img src=\"./images/molecules1.png\" style=\"width: 400px;\"/>\n",
    " \n",
    "   (a) Graph the probability distributions of $N_1, N_4,$ and $N_8$ as histograms.\n",
    "   \n",
    "   (b) Find and graph the cumulative distributions of  $N_1, N_4,$ and $N_8$ as histograms.\n",
    "   \n",
    "   (c) Compare (a) and (b) and describe your observations in the context of number of molecules."
   ]
  },
  {
   "cell_type": "code",
   "execution_count": null,
   "metadata": {},
   "outputs": [],
   "source": []
  }
 ],
 "metadata": {
  "kernelspec": {
   "display_name": "Python 3",
   "language": "python",
   "name": "python3"
  },
  "language_info": {
   "codemirror_mode": {
    "name": "ipython",
    "version": 3
   },
   "file_extension": ".py",
   "mimetype": "text/x-python",
   "name": "python",
   "nbconvert_exporter": "python",
   "pygments_lexer": "ipython3",
   "version": "3.7.3"
  },
  "toc": {
   "base_numbering": 1,
   "nav_menu": {},
   "number_sections": true,
   "sideBar": true,
   "skip_h1_title": false,
   "title_cell": "Table of Contents",
   "title_sidebar": "Contents",
   "toc_cell": false,
   "toc_position": {},
   "toc_section_display": true,
   "toc_window_display": true
  }
 },
 "nbformat": 4,
 "nbformat_minor": 2
}
